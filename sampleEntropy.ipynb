{
 "cells": [
  {
   "cell_type": "code",
   "execution_count": 2,
   "metadata": {},
   "outputs": [],
   "source": [
    "import numpy as np\n",
    "import pandas as pd\n",
    "import datetime as dt"
   ]
  },
  {
   "cell_type": "code",
   "execution_count": null,
   "metadata": {},
   "outputs": [],
   "source": [
    "# generate a time series\n",
    "series = pd.Series(np.random.randn(20),index=pd.date_range(dt.datetime(2022,1,1),periods=20))"
   ]
  },
  {
   "cell_type": "markdown",
   "metadata": {},
   "source": [
    "### Sample entropy"
   ]
  },
  {
   "cell_type": "code",
   "execution_count": 10,
   "metadata": {},
   "outputs": [
    {
     "data": {
      "text/plain": [
       "[(0, 1.879728242174012, 0.02643463468757896),\n",
       " (1, 1.2321436812926323, 0.09278048066588464),\n",
       " (2, 1.9459101490553135, 0.13226001425322165)]"
      ]
     },
     "execution_count": 10,
     "metadata": {},
     "output_type": "execute_result"
    }
   ],
   "source": [
    "from sampen import sampen2\n",
    "\n",
    "\"\"\"\n",
    "Pay attention that there are some default values of hyperparameters. The details can be seen in the source.\n",
    "source: https://github.com/bergantine/sampen/blob/develop/sampen\n",
    "\n",
    "Usages:\n",
    "\n",
    "returns:\n",
    "       :the first (Int) value is the Epoch length. The default value of maxmium length of epoch is 2.\n",
    "       :the second (Float or None) value is the SampEn.\n",
    "       :the third (Float or None) value is the Standard Deviation.\n",
    "\"\"\"\n",
    "sampen2(series)"
   ]
  },
  {
   "cell_type": "code",
   "execution_count": null,
   "metadata": {},
   "outputs": [],
   "source": []
  }
 ],
 "metadata": {
  "kernelspec": {
   "display_name": "Python 3 (ipykernel)",
   "language": "python",
   "name": "python3"
  },
  "language_info": {
   "codemirror_mode": {
    "name": "ipython",
    "version": 3
   },
   "file_extension": ".py",
   "mimetype": "text/x-python",
   "name": "python",
   "nbconvert_exporter": "python",
   "pygments_lexer": "ipython3",
   "version": "3.8.5"
  }
 },
 "nbformat": 4,
 "nbformat_minor": 4
}
