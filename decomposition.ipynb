{
 "cells": [
  {
   "cell_type": "code",
   "execution_count": 1,
   "metadata": {},
   "outputs": [],
   "source": [
    "import numpy as np\n",
    "import pandas as pd\n",
    "import datetime as dt"
   ]
  },
  {
   "cell_type": "markdown",
   "metadata": {},
   "source": [
    "### singular spectrum analysis（SSA）"
   ]
  },
  {
   "cell_type": "code",
   "execution_count": 35,
   "metadata": {},
   "outputs": [],
   "source": [
    "def SSA(series, windowLen):\n",
    "    \"\"\"\n",
    "    decompose the time series by SSA\n",
    "    args:\n",
    "        :series (pd.Series or np.array or list) -- the target time series which you want to decompose\n",
    "        :windowLen (int) -- the embedding dimension\n",
    "    returns:\n",
    "        :(np.array) the decomposed subseries, size is (windowLen, len(series))\n",
    "        \n",
    "    source: https://blog.csdn.net/weixin_40169609/article/details/124076217\n",
    "    \"\"\"\n",
    "    seriesLen = len(series)\n",
    "    K = seriesLen - windowLen + 1\n",
    "    X = np.zeros((windowLen, K))\n",
    "    for i in range(K):\n",
    "        X[:, i] = series[i:i + windowLen]\n",
    "        \n",
    "    U, sigma, VT = np.linalg.svd(X, full_matrices=False)\n",
    "\n",
    "    for i in range(VT.shape[0]):\n",
    "        VT[i, :] *= sigma[i]\n",
    "    A = VT\n",
    "    \n",
    "    subSeries = np.zeros((windowLen, seriesLen))\n",
    "    for i in range(windowLen):\n",
    "        for j in range(windowLen-1):\n",
    "            for m in range(j+1):\n",
    "                subSeries[i, j] += A[i, j-m] * U[m, i]\n",
    "            subSeries[i, j] /= (j+1)\n",
    "        for j in range(windowLen-1, seriesLen - windowLen + 1):\n",
    "            for m in range(windowLen):\n",
    "                subSeries[i, j] += A[i, j-m] * U[m, i]\n",
    "            subSeries[i, j] /= windowLen\n",
    "        for j in range(seriesLen - windowLen + 1, seriesLen):\n",
    "            for m in range(j-seriesLen+windowLen, windowLen):\n",
    "                subSeries[i, j] += A[i, j - m] * U[m, i]\n",
    "            subSeries[i, j] /= (seriesLen - j)\n",
    "    return subSeries"
   ]
  },
  {
   "cell_type": "code",
   "execution_count": 43,
   "metadata": {},
   "outputs": [],
   "source": [
    "\"\"\"\n",
    "Usages:\n",
    "\"\"\" \n",
    "series = pd.Series(np.random.randn(20),index=pd.date_range(dt.datetime(2022,1,1),periods=20))\n",
    "windowLen = 10\n",
    "subSeries = SSA(series, windowLen)"
   ]
  },
  {
   "cell_type": "markdown",
   "metadata": {},
   "source": [
    "### EMD and its variants"
   ]
  },
  {
   "cell_type": "code",
   "execution_count": 46,
   "metadata": {},
   "outputs": [],
   "source": [
    "\"\"\"\n",
    "PyEMD includes EMD, EEMD, CEEMDAN.\n",
    "Usages:\n",
    "\"\"\"\n",
    "import PyEMD\n",
    "\n",
    "series = pd.Series(np.random.randn(20),index=pd.date_range(dt.datetime(2022,1,1),periods=20))\n",
    "emd = EMD()\n",
    "subSeries = emd(series.values)"
   ]
  },
  {
   "cell_type": "markdown",
   "metadata": {},
   "source": [
    "### wavelet transform (WT)"
   ]
  },
  {
   "cell_type": "code",
   "execution_count": 41,
   "metadata": {},
   "outputs": [],
   "source": [
    "import pywt\n",
    "\n",
    "def wavelet_packet_three_level(series):\n",
    "    \"\"\"\n",
    "    decompose the time series by WT\n",
    "    args:\n",
    "        :series (pd.Series or np.array or list) -- the target time series which you want to decompose\n",
    "    returns:\n",
    "        :(np.array) the decomposed subseries\n",
    "    \n",
    "    source: https://zhuanlan.zhihu.com/p/441921299\n",
    "    \"\"\"\n",
    "    \n",
    "    mother_wavelet = 'dmey'\n",
    "    wp = pywt.WaveletPacket(data=series, wavelet=mother_wavelet, mode='symmetric', maxlevel=3)\n",
    "    node_name_list = [node.path for node in wp.get_level(3, 'natural')]\n",
    "    rec_results = []\n",
    "    for i in node_name_list:\n",
    "        new_wp = pywt.WaveletPacket(data=np.zeros(len(series)), wavelet=mother_wavelet, mode='symmetric',maxlevel=3)\n",
    "        new_wp[i] = wp[i].data\n",
    "        x_i = new_wp.reconstruct(update=True)\n",
    "        rec_results.append(x_i)\n",
    "\n",
    "    subSeries = np.array(rec_results)\n",
    "\n",
    "    return subSeries"
   ]
  },
  {
   "cell_type": "code",
   "execution_count": 52,
   "metadata": {
    "scrolled": true
   },
   "outputs": [],
   "source": [
    "\"\"\"\n",
    "Usages:\n",
    "\"\"\" \n",
    "series = pd.Series(np.random.randn(20),index=pd.date_range(dt.datetime(2022,1,1),periods=20))\n",
    "subSeries = wavelet_packet_three_level(series)"
   ]
  },
  {
   "cell_type": "markdown",
   "metadata": {},
   "source": [
    "### variational mode decomposition (VMD)"
   ]
  },
  {
   "cell_type": "code",
   "execution_count": 2,
   "metadata": {},
   "outputs": [],
   "source": [
    "\"\"\"\n",
    "source: https://blog.csdn.net/abc1234abcdefg/article/details/123319043\n",
    "\n",
    "Usages:\n",
    "\"\"\"\n",
    "from vmdpy import VMD\n",
    "\n",
    "alpha = 2000      # moderate bandwidth constraint  \n",
    "tau = 0.            # noise-tolerance (no strict fidelity enforcement)  \n",
    "K = 5        # 5 modes  \n",
    "DC = 0            # no DC part imposed  \n",
    "init = 1           # initialize omegas uniformly  \n",
    "tol = 1e-7\n",
    "\n",
    "series = pd.Series(np.random.randn(20),index=pd.date_range(dt.datetime(2022,1,1),periods=20))\n",
    "subSeries,_,_ = VMD(series, alpha, tau, K, DC, init, tol)"
   ]
  },
  {
   "cell_type": "code",
   "execution_count": null,
   "metadata": {},
   "outputs": [],
   "source": []
  }
 ],
 "metadata": {
  "kernelspec": {
   "display_name": "Python 3 (ipykernel)",
   "language": "python",
   "name": "python3"
  },
  "language_info": {
   "codemirror_mode": {
    "name": "ipython",
    "version": 3
   },
   "file_extension": ".py",
   "mimetype": "text/x-python",
   "name": "python",
   "nbconvert_exporter": "python",
   "pygments_lexer": "ipython3",
   "version": "3.8.5"
  }
 },
 "nbformat": 4,
 "nbformat_minor": 4
}
